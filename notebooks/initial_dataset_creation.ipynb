{
 "cells": [
  {
   "cell_type": "code",
   "execution_count": 1,
   "metadata": {},
   "outputs": [],
   "source": [
    "import pandas as pd \n",
    "import numpy as np\n",
    "from MidiHelpers import *"
   ]
  },
  {
   "cell_type": "markdown",
   "metadata": {},
   "source": [
    "## Getting all file paths"
   ]
  },
  {
   "cell_type": "code",
   "execution_count": 5,
   "metadata": {},
   "outputs": [],
   "source": [
    "import os\n",
    "\n",
    "list_paths = []\n",
    "\n",
    "for dirname, _, filenames in os.walk('../dataset/'):\n",
    "    for filename in filenames:\n",
    "        full_path = os.path.join(dirname, filename)\n",
    "        if (full_path[-4:] == \".mid\"):\n",
    "            list_paths.append(full_path)\n"
   ]
  },
  {
   "cell_type": "code",
   "execution_count": 6,
   "metadata": {},
   "outputs": [
    {
     "data": {
      "text/plain": [
       "['../dataset/schubert/schuim-3.mid',\n",
       " '../dataset/schubert/schub_d760_1.mid',\n",
       " '../dataset/schubert/schubert_D850_4.mid',\n",
       " '../dataset/schubert/schub_d960_3.mid',\n",
       " '../dataset/schubert/schub_d760_4.mid',\n",
       " '../dataset/schubert/schubert_D935_3.mid',\n",
       " '../dataset/schubert/schubert_D935_2.mid',\n",
       " '../dataset/schubert/schub_d960_4.mid',\n",
       " '../dataset/schubert/schumm-6.mid',\n",
       " '../dataset/schubert/schumm-1.mid']"
      ]
     },
     "execution_count": 6,
     "metadata": {},
     "output_type": "execute_result"
    }
   ],
   "source": [
    "list_paths[:10]"
   ]
  },
  {
   "cell_type": "markdown",
   "metadata": {},
   "source": [
    "## Creating the dataset"
   ]
  },
  {
   "cell_type": "code",
   "execution_count": 11,
   "metadata": {},
   "outputs": [
    {
     "name": "stdout",
     "output_type": "stream",
     "text": [
      "Error while trying to get the notes: 'NoneType' object is not iterable\n",
      "Error while trying to get the notes: 'NoneType' object is not iterable\n",
      "Error while trying to get the notes: 'NoneType' object is not iterable\n",
      "Error while trying to get the notes: 'NoneType' object is not iterable\n",
      "Error while trying to get the notes: 'NoneType' object is not iterable\n"
     ]
    }
   ],
   "source": [
    "master_notes_list = []\n",
    "master_paths_list = []\n",
    "\n",
    "for path in list_paths:\n",
    "    midi = MidiHelpers(path)\n",
    "    try:\n",
    "        master_notes_list.append(midi.get_notes_list())\n",
    "        master_paths_list.append(path)\n",
    "\n",
    "    except Exception as e:\n",
    "        print(f\"Error while trying to get the notes: {e}\")"
   ]
  },
  {
   "cell_type": "code",
   "execution_count": 12,
   "metadata": {},
   "outputs": [],
   "source": [
    "df = pd.DataFrame({\n",
    "    \"path\": master_paths_list,\n",
    "    \"notes_list\": master_notes_list\n",
    "})"
   ]
  },
  {
   "cell_type": "code",
   "execution_count": 13,
   "metadata": {},
   "outputs": [
    {
     "data": {
      "text/html": [
       "<div>\n",
       "<style scoped>\n",
       "    .dataframe tbody tr th:only-of-type {\n",
       "        vertical-align: middle;\n",
       "    }\n",
       "\n",
       "    .dataframe tbody tr th {\n",
       "        vertical-align: top;\n",
       "    }\n",
       "\n",
       "    .dataframe thead th {\n",
       "        text-align: right;\n",
       "    }\n",
       "</style>\n",
       "<table border=\"1\" class=\"dataframe\">\n",
       "  <thead>\n",
       "    <tr style=\"text-align: right;\">\n",
       "      <th></th>\n",
       "      <th>path</th>\n",
       "      <th>notes_list</th>\n",
       "    </tr>\n",
       "  </thead>\n",
       "  <tbody>\n",
       "    <tr>\n",
       "      <th>0</th>\n",
       "      <td>../dataset/schubert/schuim-3.mid</td>\n",
       "      <td>[62, 58, 63, 70, 71, 70]</td>\n",
       "    </tr>\n",
       "    <tr>\n",
       "      <th>1</th>\n",
       "      <td>../dataset/schubert/schub_d760_1.mid</td>\n",
       "      <td>[75, 63, 71, 62, 72, 70, 76, 77, 71, 67, 71, 7...</td>\n",
       "    </tr>\n",
       "    <tr>\n",
       "      <th>2</th>\n",
       "      <td>../dataset/schubert/schubert_D850_4.mid</td>\n",
       "      <td>[74, 84, 82, 78, 69, 83, 83, 79, 81, 70, 69, 8...</td>\n",
       "    </tr>\n",
       "    <tr>\n",
       "      <th>3</th>\n",
       "      <td>../dataset/schubert/schub_d960_3.mid</td>\n",
       "      <td>[76, 73, 68, 74, 73, 73, 79, 66, 69, 74, 70, 77]</td>\n",
       "    </tr>\n",
       "    <tr>\n",
       "      <th>4</th>\n",
       "      <td>../dataset/schubert/schub_d760_4.mid</td>\n",
       "      <td>[55, 80, 73, 78, 63, 78, 64, 79, 66]</td>\n",
       "    </tr>\n",
       "  </tbody>\n",
       "</table>\n",
       "</div>"
      ],
      "text/plain": [
       "                                      path  \\\n",
       "0         ../dataset/schubert/schuim-3.mid   \n",
       "1     ../dataset/schubert/schub_d760_1.mid   \n",
       "2  ../dataset/schubert/schubert_D850_4.mid   \n",
       "3     ../dataset/schubert/schub_d960_3.mid   \n",
       "4     ../dataset/schubert/schub_d760_4.mid   \n",
       "\n",
       "                                          notes_list  \n",
       "0                           [62, 58, 63, 70, 71, 70]  \n",
       "1  [75, 63, 71, 62, 72, 70, 76, 77, 71, 67, 71, 7...  \n",
       "2  [74, 84, 82, 78, 69, 83, 83, 79, 81, 70, 69, 8...  \n",
       "3   [76, 73, 68, 74, 73, 73, 79, 66, 69, 74, 70, 77]  \n",
       "4               [55, 80, 73, 78, 63, 78, 64, 79, 66]  "
      ]
     },
     "execution_count": 13,
     "metadata": {},
     "output_type": "execute_result"
    }
   ],
   "source": [
    "df.head()"
   ]
  },
  {
   "cell_type": "markdown",
   "metadata": {},
   "source": [
    "## Saving the dataset"
   ]
  },
  {
   "cell_type": "code",
   "execution_count": 14,
   "metadata": {},
   "outputs": [],
   "source": [
    "df.to_csv(\n",
    "    \"../created_datasets/initial_df.csv\",\n",
    "    index = False\n",
    ")"
   ]
  }
 ],
 "metadata": {
  "interpreter": {
   "hash": "916dbcbb3f70747c44a77c7bcd40155683ae19c65e1c03b4aa3499c5328201f1"
  },
  "kernelspec": {
   "display_name": "Python 3.8.10 64-bit",
   "language": "python",
   "name": "python3"
  },
  "language_info": {
   "codemirror_mode": {
    "name": "ipython",
    "version": 3
   },
   "file_extension": ".py",
   "mimetype": "text/x-python",
   "name": "python",
   "nbconvert_exporter": "python",
   "pygments_lexer": "ipython3",
   "version": "3.8.10"
  },
  "orig_nbformat": 4
 },
 "nbformat": 4,
 "nbformat_minor": 2
}
