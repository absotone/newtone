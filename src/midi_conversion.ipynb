{
 "cells": [
  {
   "cell_type": "markdown",
   "metadata": {},
   "source": [
    "## Importing the dataset"
   ]
  },
  {
   "cell_type": "code",
   "execution_count": 1,
   "metadata": {},
   "outputs": [],
   "source": [
    "import pandas as pd \n",
    "import numpy as np \n",
    "from MidiHelpers import *"
   ]
  },
  {
   "cell_type": "code",
   "execution_count": 2,
   "metadata": {},
   "outputs": [
    {
     "data": {
      "text/html": [
       "<div>\n",
       "<style scoped>\n",
       "    .dataframe tbody tr th:only-of-type {\n",
       "        vertical-align: middle;\n",
       "    }\n",
       "\n",
       "    .dataframe tbody tr th {\n",
       "        vertical-align: top;\n",
       "    }\n",
       "\n",
       "    .dataframe thead th {\n",
       "        text-align: right;\n",
       "    }\n",
       "</style>\n",
       "<table border=\"1\" class=\"dataframe\">\n",
       "  <thead>\n",
       "    <tr style=\"text-align: right;\">\n",
       "      <th></th>\n",
       "      <th>path</th>\n",
       "      <th>notes_list</th>\n",
       "      <th>notes_len</th>\n",
       "    </tr>\n",
       "  </thead>\n",
       "  <tbody>\n",
       "    <tr>\n",
       "      <th>0</th>\n",
       "      <td>../dataset/schubert/schub_d960_3.mid</td>\n",
       "      <td>[76, 73, 68, 74, 73, 73, 79, 66, 69, 74, 70, 77]</td>\n",
       "      <td>48</td>\n",
       "    </tr>\n",
       "    <tr>\n",
       "      <th>1</th>\n",
       "      <td>../dataset/schubert/schub_d760_4.mid</td>\n",
       "      <td>[55, 80, 73, 78, 63, 78, 64, 79, 66]</td>\n",
       "      <td>36</td>\n",
       "    </tr>\n",
       "    <tr>\n",
       "      <th>2</th>\n",
       "      <td>../dataset/schubert/schubert_D935_3.mid</td>\n",
       "      <td>[76, 74, 75, 70, 69, 71, 85, 80, 67, 72, 54, 7...</td>\n",
       "      <td>84</td>\n",
       "    </tr>\n",
       "    <tr>\n",
       "      <th>3</th>\n",
       "      <td>../dataset/schubert/schub_d960_4.mid</td>\n",
       "      <td>[75, 81, 70, 77, 72, 72, 78, 74, 72, 82, 80, 7...</td>\n",
       "      <td>72</td>\n",
       "    </tr>\n",
       "    <tr>\n",
       "      <th>4</th>\n",
       "      <td>../dataset/schubert/schumm-6.mid</td>\n",
       "      <td>[72, 69, 67, 65, 56, 64, 61, 64, 72]</td>\n",
       "      <td>36</td>\n",
       "    </tr>\n",
       "  </tbody>\n",
       "</table>\n",
       "</div>"
      ],
      "text/plain": [
       "                                      path  \\\n",
       "0     ../dataset/schubert/schub_d960_3.mid   \n",
       "1     ../dataset/schubert/schub_d760_4.mid   \n",
       "2  ../dataset/schubert/schubert_D935_3.mid   \n",
       "3     ../dataset/schubert/schub_d960_4.mid   \n",
       "4         ../dataset/schubert/schumm-6.mid   \n",
       "\n",
       "                                          notes_list  notes_len  \n",
       "0   [76, 73, 68, 74, 73, 73, 79, 66, 69, 74, 70, 77]         48  \n",
       "1               [55, 80, 73, 78, 63, 78, 64, 79, 66]         36  \n",
       "2  [76, 74, 75, 70, 69, 71, 85, 80, 67, 72, 54, 7...         84  \n",
       "3  [75, 81, 70, 77, 72, 72, 78, 74, 72, 82, 80, 7...         72  \n",
       "4               [72, 69, 67, 65, 56, 64, 61, 64, 72]         36  "
      ]
     },
     "execution_count": 2,
     "metadata": {},
     "output_type": "execute_result"
    }
   ],
   "source": [
    "df = pd.read_csv(\"../created_datasets/initial_eda.csv\")\n",
    "df.head()"
   ]
  },
  {
   "cell_type": "markdown",
   "metadata": {},
   "source": [
    "## Generating the note strings"
   ]
  },
  {
   "cell_type": "code",
   "execution_count": 7,
   "metadata": {},
   "outputs": [],
   "source": [
    "def convert_list_str(ip):\n",
    "\n",
    "    input = ip[1:-1]\n",
    "\n",
    "    l = input.split(\",\")\n",
    "\n",
    "    str_lst = []\n",
    "\n",
    "    # Performing the computation\n",
    "    for note in l:\n",
    "        str_lst.append(MidiHelpers.midi_to_str(int(note)))\n",
    "    \n",
    "    return str_lst\n",
    "\n",
    "df[\"str_notes\"] = df[\"notes_list\"].apply(lambda x : convert_list_str(x))"
   ]
  },
  {
   "cell_type": "code",
   "execution_count": 13,
   "metadata": {},
   "outputs": [],
   "source": [
    "df[\"str_notes\"] = df[\"str_notes\"].apply(lambda x: \" \".join(x))"
   ]
  },
  {
   "cell_type": "markdown",
   "metadata": {},
   "source": [
    "## Dropping unnecessary columns"
   ]
  },
  {
   "cell_type": "code",
   "execution_count": 15,
   "metadata": {},
   "outputs": [],
   "source": [
    "df.drop([\"notes_len\"], axis = 1, inplace= True)"
   ]
  },
  {
   "cell_type": "markdown",
   "metadata": {},
   "source": [
    "## Saving the dataset"
   ]
  },
  {
   "cell_type": "code",
   "execution_count": 17,
   "metadata": {},
   "outputs": [],
   "source": [
    "df.to_csv(\n",
    "    \"../created_datasets/str_eda.csv\"\n",
    ")"
   ]
  }
 ],
 "metadata": {
  "interpreter": {
   "hash": "916dbcbb3f70747c44a77c7bcd40155683ae19c65e1c03b4aa3499c5328201f1"
  },
  "kernelspec": {
   "display_name": "Python 3.8.10 64-bit",
   "language": "python",
   "name": "python3"
  },
  "language_info": {
   "codemirror_mode": {
    "name": "ipython",
    "version": 3
   },
   "file_extension": ".py",
   "mimetype": "text/x-python",
   "name": "python",
   "nbconvert_exporter": "python",
   "pygments_lexer": "ipython3",
   "version": "3.8.10"
  },
  "orig_nbformat": 4
 },
 "nbformat": 4,
 "nbformat_minor": 2
}
